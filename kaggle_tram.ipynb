{
 "cells": [
  {
   "cell_type": "markdown",
   "metadata": {},
   "source": [
    "# Конкурс в Kaggle\n",
    "\n",
    "\n",
    "### Цель конкурса - больше самостоятельной работы,  создание портфолио и веселое времяпрепровождение :)\n",
    "\n",
    "Конкурсное задание - прогноз задержки трамваев в Кракове.\n",
    "\n",
    "![](../images/krakow_tram.jpeg)\n",
    "\n",
    "\n",
    "Метрикой успеха будет: [MAE](https://bit.ly/3tmzOC0).\n",
    "\n",
    "### Kaggle \n",
    "Конкурс будет доступный в Kaggle - ссылка на [конкурс](https://www.kaggle.com/t/bc7f47a90c7d4056803c71bd3c64a76c).\n",
    "\n",
    "### Регистрация\n",
    "Если у Тебя еще нет учетной записи в Kaggle, пожалуйста, [создай аккаунт](https://bit.ly/3tfXl80).\n",
    "\n",
    "Kaggle - крупнейшее сообщество машинного обучения в мире (но и до недавних пор DataWorkshop были только в Польше, а теперь и в Рунете;)). Поэтому, если хочешь отнестись к этому серьезно, вдохновиться или время от времени участвовать в конкурсах, рекомендую создать  аккаунт в Kaggle.\n",
    "\n",
    "### Правила\n",
    "1. Конкурс начинается **18 октября 2021 г.** и заканчивается в воскресенье, **31 октября 2021 г. в 23:59** (по Москве).\n",
    "2. Участники с результатом из ТОП 3 получат наши фирменные футболки. Места будут видны в **Public Leaderboard** на протяжении всего соревнования.\n",
    "3. Набор данных разделен на две части: Public и Private. Набор данных Public содержит признаки + ответ, а набор Private только признаки. По окончании конкурса окончательный результат будет виден в **Private Leaderboard**.\n",
    "4. Данные подготовлены в образовательных целях. Запрещается использовать их для каких-либо целей, кроме этого курса, и запрещено каким-либо образом публиковать данные (кроме своего профиля в GitHub). Решение должно быть основано только на машинном обучении (обучение модели на основе общих данных). Совмещать не нужно, сосредоточься на обучении :).\n",
    "5. Нельзя формировать команды в этом соревновании. Каждый участник может добавить решение (т.е. сделать так называемый *submit*) до 5 попыток решения за один день (так что начни раньше, попыток будет больше 😉).\n",
    "6. Участники, занявшие 1-е, 2-е и 3-е места, опубликуют свое решение для всех (в течение недели после победы) и поделятся им, предоставив ссылку в Slack на свой GitHub.\n",
    "7. Приз будет отправлен в течение 2-3 недель.\n",
    "\n",
    "\n",
    "\n",
    "### Данные\n",
    "\n",
    "В данных есть **308152** строки, которые разделены почти на равные части:\n",
    "- `tram.train.h5` (175 986 строк)\n",
    "- `tram.test.h5` (132 166 строк)\n",
    "\n",
    "\n",
    "Когда сделаешь `submit` в Kaggle, это будет рассчитанный результат. Обрати внимание, что результат рассчитывается только на 30% тестовых данных, и этот результат отображается на **Public LeaderBoard** в течение всего конкурса, а по завершении конкурса, итоговый результат будет в **Private Leaderboard**.\n",
    "\n",
    "![](../images/leader_board.jpeg)\n",
    "\n",
    "На практике это означает, что в Твоем обучающем наборе есть ответы, но Тебе нужно обучить модель, чтобы можно было сначала проверить ее локально (т.е. использовать, например, перекрестную проверку или что-то более сложное). Затем загрузить свой результат в Kaggle (в виде файла csv). В течение дня у Тебя есть максимум 5 попыток (чем раньше начнешь участвовать в конкурсе, тем больше будет попыток). Во время конкурса Твой рассчитанный результат проверяется только на части данных (в данном случае 50%). Это так называемый `Public Leader Board`.\n",
    "\n",
    "Когда соревнование закончится, результат будет преобразован во все доступные тестовые данные и будет доступен в `Private LeaderBoard` Зачем это делается? Дело в том, что Твое решение должно быть максимально стабильным как на самой маленькой, так и на большей выборке данных. Следовательно, Тебе нужно проводить валидацию осторожно, потому что первое место в `Public LeaderBoard` не обязательно будет первым местом в `Private LeaderBoard` :) Остерегайся этого!\n",
    "\n",
    "\n",
    "## Подарок\n",
    "### За первые 3 места\n",
    "![Футболка](../images/present.jpeg)"
   ]
  },
  {
   "cell_type": "markdown",
   "metadata": {},
   "source": [
    "## Возможности\n",
    "\n",
    "Когда мы анализируем реальные данные, всегда (обычно ML говорит, возможно/часто, но в этом случае это само собой разумеющееся) будет много разных проблем ...\n",
    "\n",
    "\n",
    "Мы намеренно искали такие данные и проблему, чтобы внести некоторые трудности, с которыми Тебе нужно справиться.\n",
    "\n",
    "Почему? Цель этого конкурса - лучше подготовить Тебя к реальному столкновению с реальностью работы в области науки о данных и машинного обучения. Проблемы есть везде. Это всего лишь замена, но она уже достаточно осязаема, чтобы дать Тебе осознать определенные проблемы и дать Тебе очень ценный опыт, который будет полезен, когда Ты столкнешься со своим первым проектом. Кроме того, на этом этапе Ты начинаешь формировать свое портфолио, поэтому мы позаботились о том, чтобы Тебе было чем гордиться;)"
   ]
  },
  {
   "cell_type": "code",
   "execution_count": null,
   "metadata": {},
   "outputs": [],
   "source": [
    "import pandas as pd\n",
    "import numpy as np\n",
    "np.random.seed(0)\n",
    "\n",
    "from sklearn.metrics import mean_absolute_error\n",
    "from sklearn.dummy import DummyRegressor"
   ]
  },
  {
   "cell_type": "markdown",
   "metadata": {},
   "source": [
    "## Данные\n",
    "Это реальные данные.\n",
    "\n",
    "**Примечание!** Данные могут использоваться только для **образовательных целей** (также не могут быть опубликованы или переданы другим)!"
   ]
  },
  {
   "cell_type": "code",
   "execution_count": null,
   "metadata": {},
   "outputs": [],
   "source": [
    "df_train = pd.read_hdf('../input/tram.train.h5')\n",
    "df_test = pd.read_hdf('../input/tram.test.h5') #тестовый набор без ответа"
   ]
  },
  {
   "cell_type": "markdown",
   "metadata": {},
   "source": [
    "## Проверим данные"
   ]
  },
  {
   "cell_type": "code",
   "execution_count": null,
   "metadata": {
    "scrolled": true
   },
   "outputs": [],
   "source": [
    "df_train.sample(15)"
   ]
  },
  {
   "cell_type": "markdown",
   "metadata": {},
   "source": [
    "## Basic Model"
   ]
  },
  {
   "cell_type": "code",
   "execution_count": null,
   "metadata": {},
   "outputs": [],
   "source": [
    "feats = [\"id\"]\n",
    "X_train = df_train[feats].values\n",
    "X_test = df_test[feats].values\n",
    "y_train = df_train[\"delay\"].values\n",
    "\n",
    "\n",
    "model = DummyRegressor()\n",
    "model.fit(X_train, y_train)\n",
    "df_test[\"delay\"] = model.predict(X_test)"
   ]
  },
  {
   "cell_type": "markdown",
   "metadata": {},
   "source": [
    "## Submission\n",
    "\n",
    "Создадим папку `output`, в нее сохраним результаты."
   ]
  },
  {
   "cell_type": "code",
   "execution_count": null,
   "metadata": {},
   "outputs": [],
   "source": [
    "!mkdir -p ../output"
   ]
  },
  {
   "cell_type": "markdown",
   "metadata": {},
   "source": [
    "Сохраняем файл `csv`."
   ]
  },
  {
   "cell_type": "code",
   "execution_count": null,
   "metadata": {},
   "outputs": [],
   "source": [
    "df_test[ [\"id\", \"delay\"] ].to_csv('../output/model_dummy.csv', index=False) "
   ]
  },
  {
   "cell_type": "markdown",
   "metadata": {},
   "source": [
    "## Что дальше?\n",
    "\n",
    "Начни более точно исследовать, какие данные у Тебя есть, стимулируй свое воображение и начинай действовать!"
   ]
  },
  {
   "cell_type": "code",
   "execution_count": 2,
   "metadata": {},
   "outputs": [],
   "source": [
    "import pandas as pd\n",
    "import numpy as np\n",
    "np.random.seed(0)\n",
    "#from sklearn.metrics import mean_absolute_error\n",
    "#from sklearn.dummy import DummyRegressor #использовали на первом этапе\n",
    "import xgboost as xgb\n",
    "\n",
    "#Загрузка данных\n",
    "df_train = pd.read_hdf('../input/tram.train.h5')\n",
    "df_train[\"planned_time\"] = pd.to_datetime(df_train[\"planned_time\"])\n",
    "df_test = pd.read_hdf('../input/tram.test.h5') #тестовый набор без ответа\n"
   ]
  },
  {
   "cell_type": "code",
   "execution_count": 3,
   "metadata": {
    "scrolled": true
   },
   "outputs": [
    {
     "name": "stdout",
     "output_type": "stream",
     "text": [
      "После конкатенации df_train (175986, 11) и df_test (132166, 10) получили df  (308152, 12)\n"
     ]
    }
   ],
   "source": [
    "df = pd.concat([df_train, df_test])\n",
    "\n",
    "#print(\"После конкатенации df_train\", df_train.shape, \"и df_test\", df_test.shape, \"получили df \", df.shape)\n"
   ]
  },
  {
   "cell_type": "code",
   "execution_count": 3,
   "metadata": {
    "scrolled": true
   },
   "outputs": [],
   "source": [
    "#df[ df[\"delay\"].isnull() ] #проверил - пустых столько же сколько размер df_test"
   ]
  },
  {
   "cell_type": "code",
   "execution_count": 4,
   "metadata": {},
   "outputs": [
    {
     "name": "stdout",
     "output_type": "stream",
     "text": [
      "['stop', 'number', 'seq_num', 'planned_time_hour', 'stop_name_cat', 'direction_cat', 'mean_stop_name_delay', 'median_stop_name_delay', 'count_stop_name_delay', 'std_stop_name_delay', 'count_zeros_stop_name_delay', 'prob_zeros_stop_name_delay', 'mean_stop_name_direction_delay', 'median_stop_name_direction_delay', 'count_stop_name_direction_delay', 'std_stop_name_direction_delay', 'count_zeros_stop_name_direction_delay', 'prob_zeros_stop_name_direction_delay', 'planned_time_1d_hour', 'mean_1d_planned_time_1d_ymd_planned_time_1d_hour_number_delay', 'median_1d_planned_time_1d_ymd_planned_time_1d_hour_number_delay', 'count_1d_planned_time_1d_ymd_planned_time_1d_hour_number_delay', 'std_1d_planned_time_1d_ymd_planned_time_1d_hour_number_delay', 'count_1d_zeros_planned_time_1d_ymd_planned_time_1d_hour_number_delay', 'prob_1d_zeros_planned_time_1d_ymd_planned_time_1d_hour_number_delay']\n"
     ]
    }
   ],
   "source": [
    "#feature engineering (фичи появятся и в обучающей и в тестовой таблице)\n",
    "df[\"planned_time\"] = pd.to_datetime(df[\"planned_time\"])\n",
    "df[\"planned_time_ymd\"] = df[\"planned_time\"].map(lambda x: x.strftime(\"%Y-%m-%d\"))\n",
    "df[\"planned_time_hour\"] = df[\"planned_time\"].dt.hour\n",
    "df[\"stop_name_cat\"] = df[\"stop_name\"].factorize()[0]\n",
    "df[\"direction_cat\"] = df[\"direction\"].factorize()[0]\n",
    "\n",
    "## group\n",
    "def df_group_delay(df_train, groupby_feats):\n",
    "    agg_params = {\n",
    "        \"mean_{}_delay\".format(\"_\".join(groupby_feats)): (\"delay\", \"mean\"),\n",
    "        \"median_{}_delay\".format(\"_\".join(groupby_feats)): (\"delay\", \"median\"),\n",
    "        \"count_{}_delay\".format(\"_\".join(groupby_feats)): (\"delay\", \"count\"),\n",
    "        \"std_{}_delay\".format(\"_\".join(groupby_feats)): (\"delay\", \"std\"),\n",
    "        \"count_zeros_{}_delay\".format(\"_\".join(groupby_feats)): (\"delay\", lambda vals: len([x for x in vals if x == 0]) ),\n",
    "        \"prob_zeros_{}_delay\".format(\"_\".join(groupby_feats)): (\"delay\", lambda vals: np.mean([x == 0 for x in vals]) ),\n",
    "    }\n",
    "    \n",
    "    return df_train[groupby_feats + [\"delay\"]].groupby(groupby_feats).agg(\n",
    "        **agg_params\n",
    "    ).reset_index()\n",
    "\n",
    "df_tmp = df_group_delay(df_train, [\"stop_name\"])\n",
    "if \"mean_stopname_delay\" not in df:\n",
    "    df = pd.merge(df, df_tmp, on=\"stop_name\", how=\"left\")\n",
    "    \n",
    "df_tmp = df_group_delay(df_train, [\"stop_name\", \"direction\"])\n",
    "if \"mean_stopname_direction_delay\" not in df:\n",
    "    df = pd.merge(df, df_tmp, on=[\"stop_name\", \"direction\"], how=\"left\")\n",
    "    \n",
    "### shift\n",
    "def df_group_delay_shift(df_train, groupby_feats, shift):\n",
    "    df_train[\"planned_time_{}d\".format(shift)] = df_train[\"planned_time\"] + pd.Timedelta(days=shift)\n",
    "    df_train[\"planned_time_{}d_hour\".format(shift)] = df_train[\"planned_time_{}d\".format(shift)].dt.hour\n",
    "    df_train[\"planned_time_{}d_ymd\".format(shift)] = df_train[\"planned_time_{}d\".format(shift)].map(lambda x: x.strftime(\"%Y-%m-%d\"))\n",
    "    \n",
    "    groupby_feats = [\"planned_time_1d_ymd\", \"planned_time_1d_hour\"] + groupby_feats\n",
    "    \n",
    "    agg_params = {\n",
    "        \"mean_1d_{}_delay\".format(\"_\".join(groupby_feats)): (\"delay\", \"mean\"),\n",
    "        \"median_1d_{}_delay\".format(\"_\".join(groupby_feats)): (\"delay\", \"median\"),\n",
    "        \"count_1d_{}_delay\".format(\"_\".join(groupby_feats)): (\"delay\", \"count\"),\n",
    "        \"std_1d_{}_delay\".format(\"_\".join(groupby_feats)): (\"delay\", \"std\"),\n",
    "        \"count_1d_zeros_{}_delay\".format(\"_\".join(groupby_feats)): (\"delay\", lambda vals: len([x for x in vals if x == 0]) ),\n",
    "        \"prob_1d_zeros_{}_delay\".format(\"_\".join(groupby_feats)): (\"delay\", lambda vals: np.mean([x == 0 for x in vals]) ),\n",
    "    }\n",
    "    \n",
    "    return df_train[groupby_feats + [\"delay\"]].groupby(groupby_feats).agg(\n",
    "        **agg_params\n",
    "    ).reset_index()\n",
    "\n",
    "if \"mean_1d_planned_time_1d_ymd_planned_time_1d_hour_number_delay\" not in df:\n",
    "    df_tmp = df_group_delay_shift(df_train, [\"number\"], shift=1)\n",
    "    \n",
    "    df = pd.merge(df, df_tmp, left_on=[\"planned_time_ymd\", \"planned_time_hour\", \"number\"]\n",
    "    , right_on=[\"planned_time_1d_ymd\", \"planned_time_1d_hour\", \"number\"]\n",
    "    , how=\"left\")\n",
    "\n",
    "#### feature selection\n",
    "feats = df.select_dtypes(\"number\").columns\n",
    "black_list = [\"id\", \"delay\", \"vehicle_id\", \"trip_id\"]\n",
    "feats = [x for x in feats if x not in black_list]\n",
    "print(feats)\n"
   ]
  },
  {
   "cell_type": "code",
   "execution_count": 6,
   "metadata": {},
   "outputs": [],
   "source": [
    "#X, y\n",
    "df_train = df[ df[\"delay\"].notnull() ].copy()\n",
    "df_test = df[ df[\"delay\"].isnull() ].copy()\n",
    "\n",
    "X_train = df_train[feats].fillna(-1).values\n",
    "y_train = df_train[\"delay\"].values\n",
    "X_test = df_test[feats].fillna(-1).values\n"
   ]
  },
  {
   "cell_type": "code",
   "execution_count": 15,
   "metadata": {},
   "outputs": [
    {
     "data": {
      "image/png": "[encoded data removed]",
      "text/plain": [
       "<Figure size 1008x864 with 1 Axes>"
      ]
     },
     "metadata": {
      "needs_background": "light"
     },
     "output_type": "display_data"
    },
    {
     "name": "stdout",
     "output_type": "stream",
     "text": [
      "Local score: -48.501244478391776 0.8886085573981249\n"
     ]
    }
   ],
   "source": [
    "# local score\n",
    "#from sklearn.linear_model import LogisticRegression\n",
    "from sklearn.model_selection import learning_curve\n",
    "from sklearn.model_selection import ShuffleSplit\n",
    "from sklearn.model_selection import cross_val_score\n",
    "\n",
    "#визуализация\n",
    "import matplotlib.pyplot as plt\n",
    "\n",
    "def plot_learning_curve(model, title, X, y, ylim=None, cv=None, n_jobs=1, train_sizes=np.linspace(.1, 1.0, 5)):\n",
    "    \n",
    "    plt.figure(figsize=(14,12))\n",
    "    plt.title(title)\n",
    "    if ylim is not None:plt.ylim(*ylim)\n",
    "\n",
    "    plt.xlabel(\"Training examples\")\n",
    "    plt.ylabel(\"Score\")\n",
    "    \n",
    "    train_sizes, train_scores, test_scores = learning_curve(\n",
    "        model, X, y, cv=cv, n_jobs=n_jobs, train_sizes=train_sizes)\n",
    "    train_scores_mean = np.mean(train_scores, axis=1)\n",
    "    train_scores_std = np.std(train_scores, axis=1)\n",
    "    test_scores_mean = np.mean(test_scores, axis=1)\n",
    "    test_scores_std = np.std(test_scores, axis=1)\n",
    "    #mae_scores = cross_val_score(model, X, y, cv=5, scoring=\"neg_mean_absolute_error\")\n",
    "    plt.grid()\n",
    "\n",
    "    plt.fill_between(train_sizes, train_scores_mean - train_scores_std,\n",
    "                     train_scores_mean + train_scores_std, alpha=0.1,\n",
    "                     color=\"r\")\n",
    "    plt.fill_between(train_sizes, test_scores_mean - test_scores_std,\n",
    "                     test_scores_mean + test_scores_std, alpha=0.1, color=\"g\")\n",
    "    plt.plot(train_sizes, train_scores_mean, 'o-', color=\"r\",\n",
    "             label=\"Training score\")\n",
    "    plt.plot(train_sizes, test_scores_mean, 'o-', color=\"g\",\n",
    "             label=\"Cross-validation score\")\n",
    "    #plt.plot(train_sizes, mae_scores, 'o-', color=\"b\", label=\"MAE\")\n",
    "    \n",
    "    plt.legend(loc=\"best\")\n",
    "    return plt\n",
    "\n",
    "model = xgb.XGBRegressor(max_depth=6, n_estimators=30, random_state=0)\n",
    "\n",
    "plt = plot_learning_curve(model, \"Learning Curves (XGBRegressor)\", X_train, y_train, ylim=(-0.01, 0.6), cv=3, n_jobs=4)\n",
    "plt.show()\n",
    "\n",
    "scores = cross_val_score(model, X_train, y_train, cv=3, scoring=\"neg_mean_absolute_error\")\n",
    "print(\"Local score:\", np.mean(scores), np.std(scores))\n",
    "#5/50 = -48,52\n",
    "#7/70 = -48,82\n",
    "#7/60 = -48,76\n",
    "#7/40 = -48,61\n",
    "#7/30 = -48,54\n",
    "#6/30 = -48,50\n"
   ]
  },
  {
   "cell_type": "code",
   "execution_count": 7,
   "metadata": {},
   "outputs": [
    {
     "data": {
      "text/plain": [
       "((175986, 12), (132166, 12), (175986, 20), (132166, 20))"
      ]
     },
     "execution_count": 7,
     "metadata": {},
     "output_type": "execute_result"
    }
   ],
   "source": [
    "#Обучение\n",
    "model = xgb.XGBRegressor(max_depth=5, n_estimators=50, random_state=0)\n",
    "model.fit(X_train, y_train)\n",
    "\n",
    "#Прогноз для тестовой выборки\n",
    "#df_test[\"delay\"] = model.predict(X_test)\n",
    "y_pred = model.predict(X_test)\n",
    "y_pred[ y_pred < 0 ] = 0\n",
    "df_test[\"delay\"] = y_pred\n",
    "X_train.shape, X_test.shape, df_train.shape, df_test.shape"
   ]
  },
  {
   "cell_type": "code",
   "execution_count": 8,
   "metadata": {},
   "outputs": [],
   "source": [
    "!mkdir -p ../output\n",
    "df_test[ [\"id\", \"delay\"] ].to_csv('../output/prob_stopnames_direct_number_hour_1d_xgboost.csv', index=False) "
   ]
  },
  {
   "cell_type": "markdown",
   "metadata": {},
   "source": [
    "## 🤝🗣️ Совместное обсуждение и обмен опытом 💬\n",
    "Обязательно дай знать, если у Тебя появились вопросы или идеи - вместе мы сможем гораздо больше, чем по отдельности 🤝\n",
    "\n",
    "\n",
    "#### 👉 Свои вопросы/предложения/ошибки оставляй здесь **[#ds_module3](https://dw-coursesru.slack.com/archives/C02G1J974HG)**\n",
    "Если увидишь вопрос, на который знаешь ответ - постарайся помочь своему/своей коллеге, ведь когда мы что-то объясняем другим, мы еще больше закрепляем полученный материал. В итоге выигрывают все (наш любимый принцип 4K). Не стесняйся задавать вопросы - глупых вопросов не бывает - ведь Ты здесь, чтобы учиться и получать знания 🙂\n",
    "Уже во время курса Ты поймешь, сколько дает сотрудничество с другими участниками курса. Это бонус этого курса, и его стоит использовать 🥰.\n",
    "\n",
    "#### 👉 Своими мыслями и идеями поделись  здесь **[#ds_module3_ideas](https://dw-coursesru.slack.com/archives/C02GR7D5RU0)**. "
   ]
  },
  {
   "cell_type": "markdown",
   "metadata": {},
   "source": [
    "## [Анкета](https://form.typeform.com/to/etVoKQoD)\n",
    "Пожалуйста, оставь обратную связь по данному модулю и задай вопрос/вопросы, а я постраюсь на них ответить на вебинаре. Спасибо!"
   ]
  }
 ],
 "metadata": {
  "kernelspec": {
   "display_name": "Python 3",
   "language": "python",
   "name": "python3"
  },
  "language_info": {
   "codemirror_mode": {
    "name": "ipython",
    "version": 3
   },
   "file_extension": ".py",
   "mimetype": "text/x-python",
   "name": "python",
   "nbconvert_exporter": "python",
   "pygments_lexer": "ipython3",
   "version": "3.8.6"
  }
 },
 "nbformat": 4,
 "nbformat_minor": 2
}
