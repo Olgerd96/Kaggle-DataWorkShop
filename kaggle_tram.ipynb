{
 "cells": [
  {
   "cell_type": "markdown",
   "metadata": {},
   "source": [
    "# Конкурс в Kaggle\n",
    "\n",
    "\n",
    "### Цель конкурса - больше самостоятельной работы,  создание портфолио и веселое времяпрепровождение :)\n",
    "\n",
    "Конкурсное задание - прогноз задержки трамваев в Кракове.\n",
    "\n",
    "![](../images/krakow_tram.jpeg)\n",
    "\n",
    "\n",
    "Метрикой успеха будет: [MAE](https://bit.ly/3tmzOC0).\n",
    "\n",
    "### Kaggle \n",
    "Конкурс будет доступный в Kaggle - ссылка на [конкурс](https://www.kaggle.com/t/bc7f47a90c7d4056803c71bd3c64a76c).\n",
    "\n",
    "### Регистрация\n",
    "Если у Тебя еще нет учетной записи в Kaggle, пожалуйста, [создай аккаунт](https://bit.ly/3tfXl80).\n",
    "\n",
    "Kaggle - крупнейшее сообщество машинного обучения в мире (но и до недавних пор DataWorkshop были только в Польше, а теперь и в Рунете;)). Поэтому, если хочешь отнестись к этому серьезно, вдохновиться или время от времени участвовать в конкурсах, рекомендую создать  аккаунт в Kaggle.\n",
    "\n",
    "### Правила\n",
    "1. Конкурс начинается **18 октября 2021 г.** и заканчивается в воскресенье, **31 октября 2021 г. в 23:59** (по Москве).\n",
    "2. Участники с результатом из ТОП 3 получат наши фирменные футболки. Места будут видны в **Public Leaderboard** на протяжении всего соревнования.\n",
    "3. Набор данных разделен на две части: Public и Private. Набор данных Public содержит признаки + ответ, а набор Private только признаки. По окончании конкурса окончательный результат будет виден в **Private Leaderboard**.\n",
    "4. Данные подготовлены в образовательных целях. Запрещается использовать их для каких-либо целей, кроме этого курса, и запрещено каким-либо образом публиковать данные (кроме своего профиля в GitHub). Решение должно быть основано только на машинном обучении (обучение модели на основе общих данных). Совмещать не нужно, сосредоточься на обучении :).\n",
    "5. Нельзя формировать команды в этом соревновании. Каждый участник может добавить решение (т.е. сделать так называемый *submit*) до 5 попыток решения за один день (так что начни раньше, попыток будет больше 😉).\n",
    "6. Участники, занявшие 1-е, 2-е и 3-е места, опубликуют свое решение для всех (в течение недели после победы) и поделятся им, предоставив ссылку в Slack на свой GitHub.\n",
    "7. Приз будет отправлен в течение 2-3 недель.\n",
    "\n",
    "\n",
    "\n",
    "### Данные\n",
    "\n",
    "В данных есть **308152** строки, которые разделены почти на равные части:\n",
    "- `tram.train.h5` (175 986 строк)\n",
    "- `tram.test.h5` (132 166 строк)\n",
    "\n",
    "\n",
    "Когда сделаешь `submit` в Kaggle, это будет рассчитанный результат. Обрати внимание, что результат рассчитывается только на 30% тестовых данных, и этот результат отображается на **Public LeaderBoard** в течение всего конкурса, а по завершении конкурса, итоговый результат будет в **Private Leaderboard**.\n",
    "\n",
    "![](../images/leader_board.jpeg)\n",
    "\n",
    "На практике это означает, что в Твоем обучающем наборе есть ответы, но Тебе нужно обучить модель, чтобы можно было сначала проверить ее локально (т.е. использовать, например, перекрестную проверку или что-то более сложное). Затем загрузить свой результат в Kaggle (в виде файла csv). В течение дня у Тебя есть максимум 5 попыток (чем раньше начнешь участвовать в конкурсе, тем больше будет попыток). Во время конкурса Твой рассчитанный результат проверяется только на части данных (в данном случае 50%). Это так называемый `Public Leader Board`.\n",
    "\n",
    "Когда соревнование закончится, результат будет преобразован во все доступные тестовые данные и будет доступен в `Private LeaderBoard` Зачем это делается? Дело в том, что Твое решение должно быть максимально стабильным как на самой маленькой, так и на большей выборке данных. Следовательно, Тебе нужно проводить валидацию осторожно, потому что первое место в `Public LeaderBoard` не обязательно будет первым местом в `Private LeaderBoard` :) Остерегайся этого!\n",
    "\n",
    "\n",
    "## Подарок\n",
    "### За первые 3 места\n",
    "![Футболка](../images/present.jpeg)"
   ]
  },
  {
   "cell_type": "markdown",
   "metadata": {},
   "source": [
    "## Возможности\n",
    "\n",
    "Когда мы анализируем реальные данные, всегда (обычно ML говорит, возможно/часто, но в этом случае это само собой разумеющееся) будет много разных проблем ...\n",
    "\n",
    "\n",
    "Мы намеренно искали такие данные и проблему, чтобы внести некоторые трудности, с которыми Тебе нужно справиться.\n",
    "\n",
    "Почему? Цель этого конкурса - лучше подготовить Тебя к реальному столкновению с реальностью работы в области науки о данных и машинного обучения. Проблемы есть везде. Это всего лишь замена, но она уже достаточно осязаема, чтобы дать Тебе осознать определенные проблемы и дать Тебе очень ценный опыт, который будет полезен, когда Ты столкнешься со своим первым проектом. Кроме того, на этом этапе Ты начинаешь формировать свое портфолио, поэтому мы позаботились о том, чтобы Тебе было чем гордиться;)"
   ]
  },
  {
   "cell_type": "code",
   "execution_count": null,
   "metadata": {},
   "outputs": [],
   "source": [
    "import pandas as pd\n",
    "import numpy as np\n",
    "np.random.seed(0)\n",
    "\n",
    "from sklearn.metrics import mean_absolute_error\n",
    "from sklearn.dummy import DummyRegressor"
   ]
  },
  {
   "cell_type": "markdown",
   "metadata": {},
   "source": [
    "## Данные\n",
    "Это реальные данные.\n",
    "\n",
    "**Примечание!** Данные могут использоваться только для **образовательных целей** (также не могут быть опубликованы или переданы другим)!"
   ]
  },
  {
   "cell_type": "code",
   "execution_count": null,
   "metadata": {},
   "outputs": [],
   "source": [
    "df_train = pd.read_hdf('../input/tram.train.h5')\n",
    "df_test = pd.read_hdf('../input/tram.test.h5') #тестовый набор без ответа"
   ]
  },
  {
   "cell_type": "markdown",
   "metadata": {},
   "source": [
    "## Проверим данные"
   ]
  },
  {
   "cell_type": "code",
   "execution_count": null,
   "metadata": {
    "scrolled": true
   },
   "outputs": [],
   "source": [
    "df_train.sample(15)"
   ]
  },
  {
   "cell_type": "markdown",
   "metadata": {},
   "source": [
    "## Basic Model"
   ]
  },
  {
   "cell_type": "code",
   "execution_count": null,
   "metadata": {},
   "outputs": [],
   "source": [
    "feats = [\"id\"]\n",
    "X_train = df_train[feats].values\n",
    "X_test = df_test[feats].values\n",
    "y_train = df_train[\"delay\"].values\n",
    "\n",
    "\n",
    "model = DummyRegressor()\n",
    "model.fit(X_train, y_train)\n",
    "df_test[\"delay\"] = model.predict(X_test)"
   ]
  },
  {
   "cell_type": "markdown",
   "metadata": {},
   "source": [
    "## Submission\n",
    "\n",
    "Создадим папку `output`, в нее сохраним результаты."
   ]
  },
  {
   "cell_type": "code",
   "execution_count": null,
   "metadata": {},
   "outputs": [],
   "source": [
    "!mkdir -p ../output"
   ]
  },
  {
   "cell_type": "markdown",
   "metadata": {},
   "source": [
    "Сохраняем файл `csv`."
   ]
  },
  {
   "cell_type": "code",
   "execution_count": null,
   "metadata": {},
   "outputs": [],
   "source": [
    "df_test[ [\"id\", \"delay\"] ].to_csv('../output/model_dummy.csv', index=False) "
   ]
  },
  {
   "cell_type": "markdown",
   "metadata": {},
   "source": [
    "## Что дальше?\n",
    "\n",
    "Начни более точно исследовать, какие данные у Тебя есть, стимулируй свое воображение и начинай действовать!"
   ]
  },
  {
   "cell_type": "code",
   "execution_count": 1,
   "metadata": {},
   "outputs": [],
   "source": [
    "## YOUR CODE HERE\n",
    "import pandas as pd\n",
    "import numpy as np\n",
    "np.random.seed(0)\n",
    "from sklearn.metrics import mean_absolute_error\n",
    "#from sklearn.dummy import DummyRegressor #использовали на первом этапе\n",
    "from sklearn.model_selection import cross_val_score\n",
    "import xgboost as xgb\n",
    "\n",
    "#Загрузка данных\n",
    "df_train = pd.read_hdf('../input/tram.train.h5')\n",
    "#df_train[\"planned_time\"] = pd.to_datetime(df_train[\"planned_time\"])\n",
    "df_test = pd.read_hdf('../input/tram.test.h5') #тестовый набор без ответа\n"
   ]
  },
  {
   "cell_type": "code",
   "execution_count": 2,
   "metadata": {
    "scrolled": true
   },
   "outputs": [
    {
     "name": "stdout",
     "output_type": "stream",
     "text": [
      "После конкатенации df_train (175986, 11) и df_test (132166, 10) получили df  (308152, 11)\n"
     ]
    }
   ],
   "source": [
    "df = pd.concat([df_train, df_test])\n",
    "print(\"После конкатенации df_train\", df_train.shape, \"и df_test\", df_test.shape, \"получили df \", df.shape)\n"
   ]
  },
  {
   "cell_type": "code",
   "execution_count": 3,
   "metadata": {
    "scrolled": true
   },
   "outputs": [
    {
     "data": {
      "text/html": [
       "<div>\n",
       "<style scoped>\n",
       "    .dataframe tbody tr th:only-of-type {\n",
       "        vertical-align: middle;\n",
       "    }\n",
       "\n",
       "    .dataframe tbody tr th {\n",
       "        vertical-align: top;\n",
       "    }\n",
       "\n",
       "    .dataframe thead th {\n",
       "        text-align: right;\n",
       "    }\n",
       "</style>\n",
       "<table border=\"1\" class=\"dataframe\">\n",
       "  <thead>\n",
       "    <tr style=\"text-align: right;\">\n",
       "      <th></th>\n",
       "      <th>id</th>\n",
       "      <th>delay</th>\n",
       "      <th>datetime</th>\n",
       "      <th>stop</th>\n",
       "      <th>stop_name</th>\n",
       "      <th>number</th>\n",
       "      <th>direction</th>\n",
       "      <th>planned_time</th>\n",
       "      <th>vehicle_id</th>\n",
       "      <th>trip_id</th>\n",
       "      <th>seq_num</th>\n",
       "    </tr>\n",
       "  </thead>\n",
       "  <tbody>\n",
       "    <tr>\n",
       "      <th>47215</th>\n",
       "      <td>47215</td>\n",
       "      <td>NaN</td>\n",
       "      <td>2018-07-24 00:00:13</td>\n",
       "      <td>681</td>\n",
       "      <td>Teligi</td>\n",
       "      <td>13</td>\n",
       "      <td>Nowy Bieżanów P+R</td>\n",
       "      <td>2018-07-24 00:01:00</td>\n",
       "      <td>6.352185e+18</td>\n",
       "      <td>6351558574044715284</td>\n",
       "      <td>25.0</td>\n",
       "    </tr>\n",
       "    <tr>\n",
       "      <th>47216</th>\n",
       "      <td>47216</td>\n",
       "      <td>NaN</td>\n",
       "      <td>2018-07-24 00:01:20</td>\n",
       "      <td>2582</td>\n",
       "      <td>Nowy Prokocim</td>\n",
       "      <td>13</td>\n",
       "      <td>Nowy Bieżanów P+R</td>\n",
       "      <td>2018-07-24 00:02:00</td>\n",
       "      <td>6.352185e+18</td>\n",
       "      <td>6351558574044715284</td>\n",
       "      <td>26.0</td>\n",
       "    </tr>\n",
       "    <tr>\n",
       "      <th>47217</th>\n",
       "      <td>47217</td>\n",
       "      <td>NaN</td>\n",
       "      <td>2018-07-24 00:01:25</td>\n",
       "      <td>112</td>\n",
       "      <td>Stella-Sawickiego</td>\n",
       "      <td>10</td>\n",
       "      <td>Kopiec Wandy</td>\n",
       "      <td>2018-07-24 00:00:00</td>\n",
       "      <td>6.352185e+18</td>\n",
       "      <td>6351558574044641557</td>\n",
       "      <td>18.0</td>\n",
       "    </tr>\n",
       "    <tr>\n",
       "      <th>47218</th>\n",
       "      <td>47218</td>\n",
       "      <td>NaN</td>\n",
       "      <td>2018-07-24 00:02:25</td>\n",
       "      <td>679</td>\n",
       "      <td>Ćwiklińskiej</td>\n",
       "      <td>13</td>\n",
       "      <td>Nowy Bieżanów P+R</td>\n",
       "      <td>2018-07-24 00:04:00</td>\n",
       "      <td>6.352185e+18</td>\n",
       "      <td>6351558574044715284</td>\n",
       "      <td>27.0</td>\n",
       "    </tr>\n",
       "    <tr>\n",
       "      <th>47219</th>\n",
       "      <td>47219</td>\n",
       "      <td>NaN</td>\n",
       "      <td>2018-07-24 00:02:30</td>\n",
       "      <td>407</td>\n",
       "      <td>Czyżyny</td>\n",
       "      <td>10</td>\n",
       "      <td>Kopiec Wandy</td>\n",
       "      <td>2018-07-24 00:01:00</td>\n",
       "      <td>6.352185e+18</td>\n",
       "      <td>6351558574044641557</td>\n",
       "      <td>19.0</td>\n",
       "    </tr>\n",
       "    <tr>\n",
       "      <th>...</th>\n",
       "      <td>...</td>\n",
       "      <td>...</td>\n",
       "      <td>...</td>\n",
       "      <td>...</td>\n",
       "      <td>...</td>\n",
       "      <td>...</td>\n",
       "      <td>...</td>\n",
       "      <td>...</td>\n",
       "      <td>...</td>\n",
       "      <td>...</td>\n",
       "      <td>...</td>\n",
       "    </tr>\n",
       "    <tr>\n",
       "      <th>308141</th>\n",
       "      <td>308141</td>\n",
       "      <td>NaN</td>\n",
       "      <td>2018-07-31 23:56:55</td>\n",
       "      <td>89</td>\n",
       "      <td>Bronowice</td>\n",
       "      <td>14</td>\n",
       "      <td>Bronowice Małe</td>\n",
       "      <td>2018-07-31 23:55:00</td>\n",
       "      <td>6.352185e+18</td>\n",
       "      <td>6351558574044741905</td>\n",
       "      <td>33.0</td>\n",
       "    </tr>\n",
       "    <tr>\n",
       "      <th>308142</th>\n",
       "      <td>308142</td>\n",
       "      <td>NaN</td>\n",
       "      <td>2018-07-31 23:57:14</td>\n",
       "      <td>2690</td>\n",
       "      <td>Kampus UJ</td>\n",
       "      <td>18</td>\n",
       "      <td>Czerwone Maki P+R</td>\n",
       "      <td>2018-07-31 23:57:00</td>\n",
       "      <td>6.352185e+18</td>\n",
       "      <td>6351558574044791061</td>\n",
       "      <td>24.0</td>\n",
       "    </tr>\n",
       "    <tr>\n",
       "      <th>308143</th>\n",
       "      <td>308143</td>\n",
       "      <td>NaN</td>\n",
       "      <td>2018-07-31 23:57:44</td>\n",
       "      <td>133</td>\n",
       "      <td>Wesele</td>\n",
       "      <td>14</td>\n",
       "      <td>Bronowice Małe</td>\n",
       "      <td>2018-07-31 23:56:00</td>\n",
       "      <td>6.352185e+18</td>\n",
       "      <td>6351558574044741905</td>\n",
       "      <td>34.0</td>\n",
       "    </tr>\n",
       "    <tr>\n",
       "      <th>308144</th>\n",
       "      <td>308144</td>\n",
       "      <td>NaN</td>\n",
       "      <td>2018-07-31 23:58:16</td>\n",
       "      <td>630</td>\n",
       "      <td>Bieżanowska</td>\n",
       "      <td>24</td>\n",
       "      <td>Kurdwanów P+R</td>\n",
       "      <td>2018-07-31 23:56:00</td>\n",
       "      <td>6.352185e+18</td>\n",
       "      <td>6351558574044950804</td>\n",
       "      <td>23.0</td>\n",
       "    </tr>\n",
       "    <tr>\n",
       "      <th>308145</th>\n",
       "      <td>308145</td>\n",
       "      <td>NaN</td>\n",
       "      <td>2018-07-31 23:58:31</td>\n",
       "      <td>2691</td>\n",
       "      <td>Chmieleniec</td>\n",
       "      <td>18</td>\n",
       "      <td>Czerwone Maki P+R</td>\n",
       "      <td>2018-07-31 23:58:00</td>\n",
       "      <td>6.352185e+18</td>\n",
       "      <td>6351558574044791061</td>\n",
       "      <td>25.0</td>\n",
       "    </tr>\n",
       "  </tbody>\n",
       "</table>\n",
       "<p>132166 rows × 11 columns</p>\n",
       "</div>"
      ],
      "text/plain": [
       "            id  delay             datetime  stop          stop_name  number  \\\n",
       "47215    47215    NaN  2018-07-24 00:00:13   681             Teligi      13   \n",
       "47216    47216    NaN  2018-07-24 00:01:20  2582      Nowy Prokocim      13   \n",
       "47217    47217    NaN  2018-07-24 00:01:25   112  Stella-Sawickiego      10   \n",
       "47218    47218    NaN  2018-07-24 00:02:25   679       Ćwiklińskiej      13   \n",
       "47219    47219    NaN  2018-07-24 00:02:30   407            Czyżyny      10   \n",
       "...        ...    ...                  ...   ...                ...     ...   \n",
       "308141  308141    NaN  2018-07-31 23:56:55    89          Bronowice      14   \n",
       "308142  308142    NaN  2018-07-31 23:57:14  2690          Kampus UJ      18   \n",
       "308143  308143    NaN  2018-07-31 23:57:44   133             Wesele      14   \n",
       "308144  308144    NaN  2018-07-31 23:58:16   630        Bieżanowska      24   \n",
       "308145  308145    NaN  2018-07-31 23:58:31  2691        Chmieleniec      18   \n",
       "\n",
       "                direction         planned_time    vehicle_id  \\\n",
       "47215   Nowy Bieżanów P+R  2018-07-24 00:01:00  6.352185e+18   \n",
       "47216   Nowy Bieżanów P+R  2018-07-24 00:02:00  6.352185e+18   \n",
       "47217        Kopiec Wandy  2018-07-24 00:00:00  6.352185e+18   \n",
       "47218   Nowy Bieżanów P+R  2018-07-24 00:04:00  6.352185e+18   \n",
       "47219        Kopiec Wandy  2018-07-24 00:01:00  6.352185e+18   \n",
       "...                   ...                  ...           ...   \n",
       "308141     Bronowice Małe  2018-07-31 23:55:00  6.352185e+18   \n",
       "308142  Czerwone Maki P+R  2018-07-31 23:57:00  6.352185e+18   \n",
       "308143     Bronowice Małe  2018-07-31 23:56:00  6.352185e+18   \n",
       "308144      Kurdwanów P+R  2018-07-31 23:56:00  6.352185e+18   \n",
       "308145  Czerwone Maki P+R  2018-07-31 23:58:00  6.352185e+18   \n",
       "\n",
       "                    trip_id  seq_num  \n",
       "47215   6351558574044715284     25.0  \n",
       "47216   6351558574044715284     26.0  \n",
       "47217   6351558574044641557     18.0  \n",
       "47218   6351558574044715284     27.0  \n",
       "47219   6351558574044641557     19.0  \n",
       "...                     ...      ...  \n",
       "308141  6351558574044741905     33.0  \n",
       "308142  6351558574044791061     24.0  \n",
       "308143  6351558574044741905     34.0  \n",
       "308144  6351558574044950804     23.0  \n",
       "308145  6351558574044791061     25.0  \n",
       "\n",
       "[132166 rows x 11 columns]"
      ]
     },
     "execution_count": 3,
     "metadata": {},
     "output_type": "execute_result"
    }
   ],
   "source": [
    "df[ df[\"delay\"].isnull() ] #проверил - пустых столько же сколько размер df_test"
   ]
  },
  {
   "cell_type": "code",
   "execution_count": 4,
   "metadata": {},
   "outputs": [],
   "source": [
    "#feature engineering (фичи появятся и в обучающей и в тестовой таблице)\n",
    "df[\"stop_name_cat\"] = df[\"stop_name\"].factorize()[0]\n",
    "df[\"direction_cat\"] = df[\"direction\"].factorize()[0]\n",
    "\n",
    "feats = df.select_dtypes(\"number\").columns\n",
    "black_list = [\"id\", \"delay\"]\n",
    "feats = [x for x in feats if x not in black_list]"
   ]
  },
  {
   "cell_type": "code",
   "execution_count": 5,
   "metadata": {},
   "outputs": [],
   "source": [
    "#X, y\n",
    "df_train = df[ df[\"delay\"].notnull() ].copy()\n",
    "df_test = df[ df[\"delay\"].isnull() ].copy()\n",
    "\n",
    "X_train = df_train[feats].values\n",
    "X_test = df_test[feats].values\n",
    "y_train = df_train[\"delay\"].values"
   ]
  },
  {
   "cell_type": "code",
   "execution_count": 6,
   "metadata": {},
   "outputs": [
    {
     "data": {
      "image/png": "[encoded data removed]",
      "text/plain": [
       "<Figure size 1008x864 with 1 Axes>"
      ]
     },
     "metadata": {
      "needs_background": "light"
     },
     "output_type": "display_data"
    },
    {
     "name": "stdout",
     "output_type": "stream",
     "text": [
      "Local score: -50.88589738584924 0.6096636628025066\n"
     ]
    }
   ],
   "source": [
    "# local score\n",
    "from sklearn.linear_model import LogisticRegression\n",
    "from sklearn.model_selection import learning_curve\n",
    "from sklearn.model_selection import ShuffleSplit\n",
    "\n",
    "#визуализация\n",
    "import matplotlib.pyplot as plt\n",
    "\n",
    "def plot_learning_curve(model, title, X, y, ylim=None, cv=None, n_jobs=1, train_sizes=np.linspace(.1, 1.0, 5)):\n",
    "    \n",
    "    plt.figure(figsize=(14,12))\n",
    "    plt.title(title)\n",
    "    if ylim is not None:plt.ylim(*ylim)\n",
    "\n",
    "    plt.xlabel(\"Training examples\")\n",
    "    plt.ylabel(\"Score\")\n",
    "    \n",
    "    train_sizes, train_scores, test_scores = learning_curve(\n",
    "        model, X, y, cv=cv, n_jobs=n_jobs, train_sizes=train_sizes)\n",
    "    train_scores_mean = np.mean(train_scores, axis=1)\n",
    "    train_scores_std = np.std(train_scores, axis=1)\n",
    "    test_scores_mean = np.mean(test_scores, axis=1)\n",
    "    test_scores_std = np.std(test_scores, axis=1)\n",
    "    #mae_scores = cross_val_score(model, X, y, cv=5, scoring=\"neg_mean_absolute_error\")\n",
    "    \n",
    "    plt.grid()\n",
    "\n",
    "    plt.fill_between(train_sizes, train_scores_mean - train_scores_std,\n",
    "                     train_scores_mean + train_scores_std, alpha=0.1,\n",
    "                     color=\"r\")\n",
    "    plt.fill_between(train_sizes, test_scores_mean - test_scores_std,\n",
    "                     test_scores_mean + test_scores_std, alpha=0.1, color=\"g\")\n",
    "    plt.plot(train_sizes, train_scores_mean, 'o-', color=\"r\",\n",
    "             label=\"Training score\")\n",
    "    plt.plot(train_sizes, test_scores_mean, 'o-', color=\"g\",\n",
    "             label=\"Cross-validation score\")\n",
    "    #plt.plot(train_sizes, mae_scores, 'o-', color=\"b\", label=\"MAE\")\n",
    "    \n",
    "    plt.legend(loc=\"best\")\n",
    "    return plt\n",
    "\n",
    "model = xgb.XGBRegressor(max_depth=5, n_estimators=50, random_state=0)\n",
    "\n",
    "plt = plot_learning_curve(model, \"Learning Curves (XGBRegressor)\", X_train, y_train, ylim=(0.1, 1), cv=3, n_jobs=4)\n",
    "plt.show()\n",
    "\n",
    "scores = cross_val_score(model, X_train, y_train, cv=3, scoring=\"neg_mean_absolute_error\")\n",
    "print(\"Local score:\", np.mean(scores), np.std(scores))"
   ]
  },
  {
   "cell_type": "code",
   "execution_count": 7,
   "metadata": {},
   "outputs": [
    {
     "data": {
      "text/plain": [
       "((175986, 7), (132166, 7), (175986, 13), (132166, 13))"
      ]
     },
     "execution_count": 7,
     "metadata": {},
     "output_type": "execute_result"
    }
   ],
   "source": [
    "#Обучение\n",
    "model = xgb.XGBRegressor(max_depth=5, n_estimators=50, random_state=0)\n",
    "model.fit(X_train, y_train)\n",
    "\n",
    "#Прогноз для тестовой выборки\n",
    "df_test[\"delay\"] = model.predict(X_test)\n",
    "X_train.shape, X_test.shape, df_train.shape, df_test.shape"
   ]
  },
  {
   "cell_type": "code",
   "execution_count": 8,
   "metadata": {},
   "outputs": [],
   "source": [
    "!mkdir -p ../output\n",
    "df_test[ [\"id\", \"delay\"] ].to_csv('../output/simple_xgboost.csv', index=False) \n"
   ]
  },
  {
   "cell_type": "markdown",
   "metadata": {},
   "source": [
    "## 🤝🗣️ Совместное обсуждение и обмен опытом 💬\n",
    "Обязательно дай знать, если у Тебя появились вопросы или идеи - вместе мы сможем гораздо больше, чем по отдельности 🤝\n",
    "\n",
    "\n",
    "#### 👉 Свои вопросы/предложения/ошибки оставляй здесь **[#ds_module3](https://dw-coursesru.slack.com/archives/C02G1J974HG)**\n",
    "Если увидишь вопрос, на который знаешь ответ - постарайся помочь своему/своей коллеге, ведь когда мы что-то объясняем другим, мы еще больше закрепляем полученный материал. В итоге выигрывают все (наш любимый принцип 4K). Не стесняйся задавать вопросы - глупых вопросов не бывает - ведь Ты здесь, чтобы учиться и получать знания 🙂\n",
    "Уже во время курса Ты поймешь, сколько дает сотрудничество с другими участниками курса. Это бонус этого курса, и его стоит использовать 🥰.\n",
    "\n",
    "#### 👉 Своими мыслями и идеями поделись  здесь **[#ds_module3_ideas](https://dw-coursesru.slack.com/archives/C02GR7D5RU0)**. "
   ]
  },
  {
   "cell_type": "markdown",
   "metadata": {},
   "source": [
    "## [Анкета](https://form.typeform.com/to/etVoKQoD)\n",
    "Пожалуйста, оставь обратную связь по данному модулю и задай вопрос/вопросы, а я постраюсь на них ответить на вебинаре. Спасибо!"
   ]
  }
 ],
 "metadata": {
  "kernelspec": {
   "display_name": "Python 3",
   "language": "python",
   "name": "python3"
  },
  "language_info": {
   "codemirror_mode": {
    "name": "ipython",
    "version": 3
   },
   "file_extension": ".py",
   "mimetype": "text/x-python",
   "name": "python",
   "nbconvert_exporter": "python",
   "pygments_lexer": "ipython3",
   "version": "3.8.6"
  }
 },
 "nbformat": 4,
 "nbformat_minor": 2
}
