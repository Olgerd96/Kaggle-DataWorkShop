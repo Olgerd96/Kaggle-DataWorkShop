{
 "cells": [
  {
   "cell_type": "markdown",
   "metadata": {},
   "source": [
    "# Конкурс в Kaggle\n",
    "\n",
    "\n",
    "### Цель конкурса - больше самостоятельной работы,  создание портфолио и веселое времяпрепровождение :)\n",
    "\n",
    "Конкурсное задание - прогноз задержки трамваев в Кракове.\n",
    "\n",
    "![](../images/krakow_tram.jpeg)\n",
    "\n",
    "\n",
    "Метрикой успеха будет: [MAE](https://bit.ly/3tmzOC0).\n",
    "\n",
    "### Kaggle \n",
    "Конкурс будет доступный в Kaggle - ссылка на [конкурс](https://www.kaggle.com/t/bc7f47a90c7d4056803c71bd3c64a76c).\n",
    "\n",
    "### Регистрация\n",
    "Если у Тебя еще нет учетной записи в Kaggle, пожалуйста, [создай аккаунт](https://bit.ly/3tfXl80).\n",
    "\n",
    "Kaggle - крупнейшее сообщество машинного обучения в мире (но и до недавних пор DataWorkshop были только в Польше, а теперь и в Рунете;)). Поэтому, если хочешь отнестись к этому серьезно, вдохновиться или время от времени участвовать в конкурсах, рекомендую создать  аккаунт в Kaggle.\n",
    "\n",
    "### Правила\n",
    "1. Конкурс начинается **18 октября 2021 г.** и заканчивается в воскресенье, **31 октября 2021 г. в 23:59** (по Москве).\n",
    "2. Участники с результатом из ТОП 3 получат наши фирменные футболки. Места будут видны в **Public Leaderboard** на протяжении всего соревнования.\n",
    "3. Набор данных разделен на две части: Public и Private. Набор данных Public содержит признаки + ответ, а набор Private только признаки. По окончании конкурса окончательный результат будет виден в **Private Leaderboard**.\n",
    "4. Данные подготовлены в образовательных целях. Запрещается использовать их для каких-либо целей, кроме этого курса, и запрещено каким-либо образом публиковать данные (кроме своего профиля в GitHub). Решение должно быть основано только на машинном обучении (обучение модели на основе общих данных). Совмещать не нужно, сосредоточься на обучении :).\n",
    "5. Нельзя формировать команды в этом соревновании. Каждый участник может добавить решение (т.е. сделать так называемый *submit*) до 5 попыток решения за один день (так что начни раньше, попыток будет больше 😉).\n",
    "6. Участники, занявшие 1-е, 2-е и 3-е места, опубликуют свое решение для всех (в течение недели после победы) и поделятся им, предоставив ссылку в Slack на свой GitHub.\n",
    "7. Приз будет отправлен в течение 2-3 недель.\n",
    "\n",
    "\n",
    "\n",
    "### Данные\n",
    "\n",
    "В данных есть **308152** строки, которые разделены почти на равные части:\n",
    "- `tram.train.h5` (175 986 строк)\n",
    "- `tram.test.h5` (132 166 строк)\n",
    "\n",
    "\n",
    "Когда сделаешь `submit` в Kaggle, это будет рассчитанный результат. Обрати внимание, что результат рассчитывается только на 30% тестовых данных, и этот результат отображается на **Public LeaderBoard** в течение всего конкурса, а по завершении конкурса, итоговый результат будет в **Private Leaderboard**.\n",
    "\n",
    "![](../images/leader_board.jpeg)\n",
    "\n",
    "На практике это означает, что в Твоем обучающем наборе есть ответы, но Тебе нужно обучить модель, чтобы можно было сначала проверить ее локально (т.е. использовать, например, перекрестную проверку или что-то более сложное). Затем загрузить свой результат в Kaggle (в виде файла csv). В течение дня у Тебя есть максимум 5 попыток (чем раньше начнешь участвовать в конкурсе, тем больше будет попыток). Во время конкурса Твой рассчитанный результат проверяется только на части данных (в данном случае 50%). Это так называемый `Public Leader Board`.\n",
    "\n",
    "Когда соревнование закончится, результат будет преобразован во все доступные тестовые данные и будет доступен в `Private LeaderBoard` Зачем это делается? Дело в том, что Твое решение должно быть максимально стабильным как на самой маленькой, так и на большей выборке данных. Следовательно, Тебе нужно проводить валидацию осторожно, потому что первое место в `Public LeaderBoard` не обязательно будет первым местом в `Private LeaderBoard` :) Остерегайся этого!\n",
    "\n",
    "\n",
    "## Подарок\n",
    "### За первые 3 места\n",
    "![Футболка](../images/present.jpeg)"
   ]
  },
  {
   "cell_type": "markdown",
   "metadata": {},
   "source": [
    "## Возможности\n",
    "\n",
    "Когда мы анализируем реальные данные, всегда (обычно ML говорит, возможно/часто, но в этом случае это само собой разумеющееся) будет много разных проблем ...\n",
    "\n",
    "\n",
    "Мы намеренно искали такие данные и проблему, чтобы внести некоторые трудности, с которыми Тебе нужно справиться.\n",
    "\n",
    "Почему? Цель этого конкурса - лучше подготовить Тебя к реальному столкновению с реальностью работы в области науки о данных и машинного обучения. Проблемы есть везде. Это всего лишь замена, но она уже достаточно осязаема, чтобы дать Тебе осознать определенные проблемы и дать Тебе очень ценный опыт, который будет полезен, когда Ты столкнешься со своим первым проектом. Кроме того, на этом этапе Ты начинаешь формировать свое портфолио, поэтому мы позаботились о том, чтобы Тебе было чем гордиться;)"
   ]
  },
  {
   "cell_type": "code",
   "execution_count": null,
   "metadata": {},
   "outputs": [],
   "source": [
    "import pandas as pd\n",
    "import numpy as np\n",
    "np.random.seed(0)\n",
    "\n",
    "from sklearn.metrics import mean_absolute_error\n",
    "from sklearn.dummy import DummyRegressor"
   ]
  },
  {
   "cell_type": "markdown",
   "metadata": {},
   "source": [
    "## Данные\n",
    "Это реальные данные.\n",
    "\n",
    "**Примечание!** Данные могут использоваться только для **образовательных целей** (также не могут быть опубликованы или переданы другим)!"
   ]
  },
  {
   "cell_type": "code",
   "execution_count": null,
   "metadata": {},
   "outputs": [],
   "source": [
    "df_train = pd.read_hdf('../input/tram.train.h5')\n",
    "df_test = pd.read_hdf('../input/tram.test.h5') #тестовый набор без ответа"
   ]
  },
  {
   "cell_type": "markdown",
   "metadata": {},
   "source": [
    "## Проверим данные"
   ]
  },
  {
   "cell_type": "code",
   "execution_count": null,
   "metadata": {
    "scrolled": true
   },
   "outputs": [],
   "source": [
    "df_train.sample(15)"
   ]
  },
  {
   "cell_type": "markdown",
   "metadata": {},
   "source": [
    "## Basic Model"
   ]
  },
  {
   "cell_type": "code",
   "execution_count": null,
   "metadata": {},
   "outputs": [],
   "source": [
    "feats = [\"id\"]\n",
    "X_train = df_train[feats].values\n",
    "X_test = df_test[feats].values\n",
    "y_train = df_train[\"delay\"].values\n",
    "\n",
    "\n",
    "model = DummyRegressor()\n",
    "model.fit(X_train, y_train)\n",
    "df_test[\"delay\"] = model.predict(X_test)"
   ]
  },
  {
   "cell_type": "markdown",
   "metadata": {},
   "source": [
    "## Submission\n",
    "\n",
    "Создадим папку `output`, в нее сохраним результаты."
   ]
  },
  {
   "cell_type": "code",
   "execution_count": null,
   "metadata": {},
   "outputs": [],
   "source": [
    "!mkdir -p ../output"
   ]
  },
  {
   "cell_type": "markdown",
   "metadata": {},
   "source": [
    "Сохраняем файл `csv`."
   ]
  },
  {
   "cell_type": "code",
   "execution_count": null,
   "metadata": {},
   "outputs": [],
   "source": [
    "df_test[ [\"id\", \"delay\"] ].to_csv('../output/model_dummy.csv', index=False) "
   ]
  },
  {
   "cell_type": "markdown",
   "metadata": {},
   "source": [
    "## Что дальше?\n",
    "\n",
    "Начни более точно исследовать, какие данные у Тебя есть, стимулируй свое воображение и начинай действовать!"
   ]
  },
  {
   "cell_type": "code",
   "execution_count": 1,
   "metadata": {},
   "outputs": [],
   "source": [
    "import pandas as pd\n",
    "import numpy as np\n",
    "np.random.seed(0)\n",
    "#from sklearn.metrics import mean_absolute_error\n",
    "#from sklearn.dummy import DummyRegressor #использовали на первом этапе\n",
    "from sklearn.model_selection import cross_val_score\n",
    "import xgboost as xgb\n",
    "\n",
    "#Загрузка данных\n",
    "df_train = pd.read_hdf('../input/tram.train.h5')\n",
    "#df_train[\"planned_time\"] = pd.to_datetime(df_train[\"planned_time\"])\n",
    "df_test = pd.read_hdf('../input/tram.test.h5') #тестовый набор без ответа\n"
   ]
  },
  {
   "cell_type": "code",
   "execution_count": 2,
   "metadata": {
    "scrolled": true
   },
   "outputs": [
    {
     "name": "stdout",
     "output_type": "stream",
     "text": [
      "После конкатенации df_train (175986, 11) и df_test (132166, 10) получили df  (308152, 11)\n"
     ]
    }
   ],
   "source": [
    "df = pd.concat([df_train, df_test])\n",
    "df.index = df.datetime.isnull()\n",
    "print(\"После конкатенации df_train\", df_train.shape, \"и df_test\", df_test.shape, \"получили df \", df.shape)\n"
   ]
  },
  {
   "cell_type": "code",
   "execution_count": 3,
   "metadata": {
    "scrolled": true
   },
   "outputs": [],
   "source": [
    "#df[ df[\"delay\"].isnull() ] #проверил - пустых столько же сколько размер df_test"
   ]
  },
  {
   "cell_type": "code",
   "execution_count": 4,
   "metadata": {},
   "outputs": [
    {
     "data": {
      "text/plain": [
       "['stop',\n",
       " 'number',\n",
       " 'vehicle_id',\n",
       " 'trip_id',\n",
       " 'seq_num',\n",
       " 'planned_time_hour',\n",
       " 'stop_name_cat',\n",
       " 'direction_cat']"
      ]
     },
     "execution_count": 4,
     "metadata": {},
     "output_type": "execute_result"
    }
   ],
   "source": [
    "#feature engineering (фичи появятся и в обучающей и в тестовой таблице)\n",
    "df[\"planned_time\"] = pd.to_datetime( df[\"planned_time\"] )\n",
    "df[\"planned_time_hour\"] = df[\"planned_time\"].dt.hour\n",
    "df[\"stop_name_cat\"] = df[\"stop_name\"].factorize()[0]\n",
    "df[\"direction_cat\"] = df[\"direction\"].factorize()[0]\n",
    "\n",
    "feats = df.select_dtypes(\"number\").columns\n",
    "black_list = [\"id\", \"delay\"]\n",
    "feats = [x for x in feats if x not in black_list]\n",
    "\n",
    "feats"
   ]
  },
  {
   "cell_type": "code",
   "execution_count": 5,
   "metadata": {},
   "outputs": [],
   "source": [
    "#X, y\n",
    "df_train = df[ df[\"delay\"].notnull() ].copy()\n",
    "df_test = df[ df[\"delay\"].isnull() ].copy()\n",
    "#df_train = df[ False == df.index ].copy()\n",
    "#df_test = df[ df.index ].copy()\n",
    "\n",
    "X_train = df_train[feats].values\n",
    "X_test = df_test[feats].values\n",
    "y_train = df_train[\"delay\"].values"
   ]
  },
  {
   "cell_type": "code",
   "execution_count": 6,
   "metadata": {},
   "outputs": [
    {
     "data": {
      "image/png": "[encoded data removed]",
      "text/plain": [
       "<Figure size 1008x864 with 1 Axes>"
      ]
     },
     "metadata": {
      "needs_background": "light"
     },
     "output_type": "display_data"
    },
    {
     "name": "stdout",
     "output_type": "stream",
     "text": [
      "Local score: -49.83719482511818 0.8904963033404918\n"
     ]
    }
   ],
   "source": [
    "# local score\n",
    "from sklearn.linear_model import LogisticRegression\n",
    "from sklearn.model_selection import learning_curve\n",
    "from sklearn.model_selection import ShuffleSplit\n",
    "\n",
    "#визуализация\n",
    "import matplotlib.pyplot as plt\n",
    "\n",
    "def plot_learning_curve(model, title, X, y, ylim=None, cv=None, n_jobs=1, train_sizes=np.linspace(.1, 1.0, 5)):\n",
    "    \n",
    "    plt.figure(figsize=(14,12))\n",
    "    plt.title(title)\n",
    "    if ylim is not None:plt.ylim(*ylim)\n",
    "\n",
    "    plt.xlabel(\"Training examples\")\n",
    "    plt.ylabel(\"Score\")\n",
    "    \n",
    "    train_sizes, train_scores, test_scores = learning_curve(\n",
    "        model, X, y, cv=cv, n_jobs=n_jobs, train_sizes=train_sizes)\n",
    "    train_scores_mean = np.mean(train_scores, axis=1)\n",
    "    train_scores_std = np.std(train_scores, axis=1)\n",
    "    test_scores_mean = np.mean(test_scores, axis=1)\n",
    "    test_scores_std = np.std(test_scores, axis=1)\n",
    "    #mae_scores = cross_val_score(model, X, y, cv=5, scoring=\"neg_mean_absolute_error\")\n",
    "    \n",
    "    plt.grid()\n",
    "\n",
    "    plt.fill_between(train_sizes, train_scores_mean - train_scores_std,\n",
    "                     train_scores_mean + train_scores_std, alpha=0.1,\n",
    "                     color=\"r\")\n",
    "    plt.fill_between(train_sizes, test_scores_mean - test_scores_std,\n",
    "                     test_scores_mean + test_scores_std, alpha=0.1, color=\"g\")\n",
    "    plt.plot(train_sizes, train_scores_mean, 'o-', color=\"r\",\n",
    "             label=\"Training score\")\n",
    "    plt.plot(train_sizes, test_scores_mean, 'o-', color=\"g\",\n",
    "             label=\"Cross-validation score\")\n",
    "    #plt.plot(train_sizes, mae_scores, 'o-', color=\"b\", label=\"MAE\")\n",
    "    \n",
    "    plt.legend(loc=\"best\")\n",
    "    return plt\n",
    "\n",
    "model = xgb.XGBRegressor(max_depth=5, n_estimators=50, random_state=0)\n",
    "\n",
    "plt = plot_learning_curve(model, \"Learning Curves (XGBRegressor)\", X_train, y_train, ylim=(0.1, 1), cv=3, n_jobs=4)\n",
    "plt.show()\n",
    "\n",
    "scores = cross_val_score(model, X_train, y_train, cv=3, scoring=\"neg_mean_absolute_error\")\n",
    "print(\"Local score:\", np.mean(scores), np.std(scores))"
   ]
  },
  {
   "cell_type": "code",
   "execution_count": 7,
   "metadata": {},
   "outputs": [
    {
     "data": {
      "text/plain": [
       "((175986, 8), (132166, 8), (175986, 14), (132166, 14))"
      ]
     },
     "execution_count": 7,
     "metadata": {},
     "output_type": "execute_result"
    }
   ],
   "source": [
    "#Обучение\n",
    "model = xgb.XGBRegressor(max_depth=5, n_estimators=50, random_state=0)\n",
    "model.fit(X_train, y_train)\n",
    "\n",
    "#Прогноз для тестовой выборки\n",
    "#df_test[\"delay\"] = model.predict(X_test)\n",
    "y_pred = model.predict(X_test)\n",
    "y_pred[ y_pred < 0 ] = 0\n",
    "df_test[\"delay\"] = y_pred\n",
    "X_train.shape, X_test.shape, df_train.shape, df_test.shape"
   ]
  },
  {
   "cell_type": "code",
   "execution_count": 8,
   "metadata": {},
   "outputs": [],
   "source": [
    "!mkdir -p ../output\n",
    "df_test[ [\"id\", \"delay\"] ].to_csv('../output/hour_xgboost.csv', index=False) \n"
   ]
  },
  {
   "cell_type": "markdown",
   "metadata": {},
   "source": [
    "## 🤝🗣️ Совместное обсуждение и обмен опытом 💬\n",
    "Обязательно дай знать, если у Тебя появились вопросы или идеи - вместе мы сможем гораздо больше, чем по отдельности 🤝\n",
    "\n",
    "\n",
    "#### 👉 Свои вопросы/предложения/ошибки оставляй здесь **[#ds_module3](https://dw-coursesru.slack.com/archives/C02G1J974HG)**\n",
    "Если увидишь вопрос, на который знаешь ответ - постарайся помочь своему/своей коллеге, ведь когда мы что-то объясняем другим, мы еще больше закрепляем полученный материал. В итоге выигрывают все (наш любимый принцип 4K). Не стесняйся задавать вопросы - глупых вопросов не бывает - ведь Ты здесь, чтобы учиться и получать знания 🙂\n",
    "Уже во время курса Ты поймешь, сколько дает сотрудничество с другими участниками курса. Это бонус этого курса, и его стоит использовать 🥰.\n",
    "\n",
    "#### 👉 Своими мыслями и идеями поделись  здесь **[#ds_module3_ideas](https://dw-coursesru.slack.com/archives/C02GR7D5RU0)**. "
   ]
  },
  {
   "cell_type": "markdown",
   "metadata": {},
   "source": [
    "## [Анкета](https://form.typeform.com/to/etVoKQoD)\n",
    "Пожалуйста, оставь обратную связь по данному модулю и задай вопрос/вопросы, а я постраюсь на них ответить на вебинаре. Спасибо!"
   ]
  }
 ],
 "metadata": {
  "kernelspec": {
   "display_name": "Python 3",
   "language": "python",
   "name": "python3"
  },
  "language_info": {
   "codemirror_mode": {
    "name": "ipython",
    "version": 3
   },
   "file_extension": ".py",
   "mimetype": "text/x-python",
   "name": "python",
   "nbconvert_exporter": "python",
   "pygments_lexer": "ipython3",
   "version": "3.8.6"
  }
 },
 "nbformat": 4,
 "nbformat_minor": 2
}
